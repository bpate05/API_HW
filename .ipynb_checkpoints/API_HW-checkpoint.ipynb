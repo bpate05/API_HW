{
 "cells": [
  {
   "cell_type": "markdown",
   "metadata": {},
   "source": [
    "# Observations\n",
    "### 1. Clean up exception handling- now working, but reduces city total to less than 500\n",
    "### 2. Multiple API calls to get to 500\n",
    "### 3. Ensuring no repeat cities (lat and longs in the ocean that are close could lead to the same nearest city)- COMPLETED- now ensure that you get 500 cities in list\n",
    "### maybe hit API for more than 500 samples then, once more than 500 in dataframe, take sample of 500 cities\n",
    "### 4. Write observations"
   ]
  },
  {
   "cell_type": "code",
   "execution_count": 274,
   "metadata": {},
   "outputs": [],
   "source": [
    "# import dependencies and wrappers\n",
    "import pandas as pd\n",
    "import requests\n",
    "import json\n",
    "import matplotlib.pyplot as plt\n",
    "import numpy as np\n",
    "from pprint import pprint\n",
    "import openweathermapy.core as owm\n",
    "from config import api_key\n",
    "import random\n",
    "from citipy import citipy\n",
    "from urllib.error import HTTPError"
   ]
  },
  {
   "cell_type": "code",
   "execution_count": 284,
   "metadata": {},
   "outputs": [
    {
     "name": "stdout",
     "output_type": "stream",
     "text": [
      "[(10, 171), (-84, 18), (35, -147), (-46, -22), (14, 121), (-44, 67), (-35, -179), (-49, 76), (-40, -88), (-29, 41)]\n"
     ]
    }
   ],
   "source": [
    "# create empty lists for latitude and longitude\n",
    "lat = []\n",
    "lng = []\n",
    "\n",
    "# use random integers to populate the lat and lng lists\n",
    "for x in range (10):\n",
    "    y = random.randint(-90,90)\n",
    "    lat.append(y)\n",
    "    z = random.randint(-180,180)\n",
    "    lng.append(z)\n",
    "    \n",
    "# zip the lat and lng lists together to create a list of coordinates\n",
    "coords = list(zip(lat, lng))\n",
    "print(coords)"
   ]
  },
  {
   "cell_type": "code",
   "execution_count": 285,
   "metadata": {},
   "outputs": [
    {
     "data": {
      "text/plain": [
       "10"
      ]
     },
     "execution_count": 285,
     "metadata": {},
     "output_type": "execute_result"
    }
   ],
   "source": [
    "# create empty list for cities\n",
    "cities = []\n",
    "\n",
    "# find the nearest city for each \n",
    "for coord in coords:\n",
    "    lat, lng = coord\n",
    "    nearest_city = citipy.nearest_city(lat, lng)\n",
    "    if nearest_city not in cities:\n",
    "        cities.append (nearest_city)\n",
    "        nearest_city = citipy.nearest_city(lat, lng)\n",
    "    else: \n",
    "        lng = lng + 30\n",
    "        nearest_city = citipy.nearest_city(lat, lng)\n",
    "\n",
    "# find the city name and country code for each city\n",
    "city_names = []\n",
    "country_codes = []\n",
    "for city in cities:\n",
    "    country_code = city.country_code\n",
    "    country_codes.append(country_code)\n",
    "    name = city.city_name\n",
    "    city_names.append(name)\n",
    "    \n",
    "len(city_names)"
   ]
  },
  {
   "cell_type": "code",
   "execution_count": 286,
   "metadata": {},
   "outputs": [
    {
     "data": {
      "text/html": [
       "<div>\n",
       "<style scoped>\n",
       "    .dataframe tbody tr th:only-of-type {\n",
       "        vertical-align: middle;\n",
       "    }\n",
       "\n",
       "    .dataframe tbody tr th {\n",
       "        vertical-align: top;\n",
       "    }\n",
       "\n",
       "    .dataframe thead th {\n",
       "        text-align: right;\n",
       "    }\n",
       "</style>\n",
       "<table border=\"1\" class=\"dataframe\">\n",
       "  <thead>\n",
       "    <tr style=\"text-align: right;\">\n",
       "      <th></th>\n",
       "      <th>City</th>\n",
       "      <th>Country Code</th>\n",
       "      <th>Latitude</th>\n",
       "      <th>Longitude</th>\n",
       "      <th>Temperature</th>\n",
       "      <th>Humidity</th>\n",
       "      <th>Cloudiness</th>\n",
       "      <th>Wind Speed</th>\n",
       "    </tr>\n",
       "  </thead>\n",
       "  <tbody>\n",
       "    <tr>\n",
       "      <th>0</th>\n",
       "      <td>butaritari</td>\n",
       "      <td>ki</td>\n",
       "      <td></td>\n",
       "      <td></td>\n",
       "      <td></td>\n",
       "      <td></td>\n",
       "      <td></td>\n",
       "      <td></td>\n",
       "    </tr>\n",
       "    <tr>\n",
       "      <th>1</th>\n",
       "      <td>bredasdorp</td>\n",
       "      <td>za</td>\n",
       "      <td></td>\n",
       "      <td></td>\n",
       "      <td></td>\n",
       "      <td></td>\n",
       "      <td></td>\n",
       "      <td></td>\n",
       "    </tr>\n",
       "    <tr>\n",
       "      <th>2</th>\n",
       "      <td>kahului</td>\n",
       "      <td>us</td>\n",
       "      <td></td>\n",
       "      <td></td>\n",
       "      <td></td>\n",
       "      <td></td>\n",
       "      <td></td>\n",
       "      <td></td>\n",
       "    </tr>\n",
       "    <tr>\n",
       "      <th>3</th>\n",
       "      <td>arraial do cabo</td>\n",
       "      <td>br</td>\n",
       "      <td></td>\n",
       "      <td></td>\n",
       "      <td></td>\n",
       "      <td></td>\n",
       "      <td></td>\n",
       "      <td></td>\n",
       "    </tr>\n",
       "    <tr>\n",
       "      <th>4</th>\n",
       "      <td>bugaan</td>\n",
       "      <td>ph</td>\n",
       "      <td></td>\n",
       "      <td></td>\n",
       "      <td></td>\n",
       "      <td></td>\n",
       "      <td></td>\n",
       "      <td></td>\n",
       "    </tr>\n",
       "    <tr>\n",
       "      <th>5</th>\n",
       "      <td>saint-philippe</td>\n",
       "      <td>re</td>\n",
       "      <td></td>\n",
       "      <td></td>\n",
       "      <td></td>\n",
       "      <td></td>\n",
       "      <td></td>\n",
       "      <td></td>\n",
       "    </tr>\n",
       "    <tr>\n",
       "      <th>6</th>\n",
       "      <td>vaini</td>\n",
       "      <td>to</td>\n",
       "      <td></td>\n",
       "      <td></td>\n",
       "      <td></td>\n",
       "      <td></td>\n",
       "      <td></td>\n",
       "      <td></td>\n",
       "    </tr>\n",
       "    <tr>\n",
       "      <th>7</th>\n",
       "      <td>mahebourg</td>\n",
       "      <td>mu</td>\n",
       "      <td></td>\n",
       "      <td></td>\n",
       "      <td></td>\n",
       "      <td></td>\n",
       "      <td></td>\n",
       "      <td></td>\n",
       "    </tr>\n",
       "    <tr>\n",
       "      <th>8</th>\n",
       "      <td>ancud</td>\n",
       "      <td>cl</td>\n",
       "      <td></td>\n",
       "      <td></td>\n",
       "      <td></td>\n",
       "      <td></td>\n",
       "      <td></td>\n",
       "      <td></td>\n",
       "    </tr>\n",
       "    <tr>\n",
       "      <th>9</th>\n",
       "      <td>beloha</td>\n",
       "      <td>mg</td>\n",
       "      <td></td>\n",
       "      <td></td>\n",
       "      <td></td>\n",
       "      <td></td>\n",
       "      <td></td>\n",
       "      <td></td>\n",
       "    </tr>\n",
       "  </tbody>\n",
       "</table>\n",
       "</div>"
      ],
      "text/plain": [
       "              City Country Code Latitude Longitude Temperature Humidity  \\\n",
       "0       butaritari           ki                                           \n",
       "1       bredasdorp           za                                           \n",
       "2          kahului           us                                           \n",
       "3  arraial do cabo           br                                           \n",
       "4           bugaan           ph                                           \n",
       "5   saint-philippe           re                                           \n",
       "6            vaini           to                                           \n",
       "7        mahebourg           mu                                           \n",
       "8            ancud           cl                                           \n",
       "9           beloha           mg                                           \n",
       "\n",
       "  Cloudiness Wind Speed  \n",
       "0                        \n",
       "1                        \n",
       "2                        \n",
       "3                        \n",
       "4                        \n",
       "5                        \n",
       "6                        \n",
       "7                        \n",
       "8                        \n",
       "9                        "
      ]
     },
     "execution_count": 286,
     "metadata": {},
     "output_type": "execute_result"
    }
   ],
   "source": [
    "# create dataframe and add columns to be later populated\n",
    "city_df = pd.DataFrame({\"City\": city_names, \"Country Code\": country_codes})\n",
    "city_df[\"Latitude\"]= \"\"\n",
    "city_df[\"Longitude\"] = \"\"\n",
    "city_df[\"Temperature\"] = \"\"\n",
    "city_df[\"Humidity\"] = \"\"\n",
    "city_df[\"Cloudiness\"] = \"\"\n",
    "city_df[\"Wind Speed\"] = \"\"\n",
    "\n",
    "city_df"
   ]
  },
  {
   "cell_type": "code",
   "execution_count": 287,
   "metadata": {},
   "outputs": [],
   "source": [
    "# set parameters for owm wrapper\n",
    "settings = {\"units\": \"imperial\", \"appid\": api_key}\n",
    "base_url = \"api.openweathermap.org/data/2.5/weather?\"\n",
    "\n",
    "# iterate through rows of dataframe, populating it with data from owm api\n",
    "# add in exception handling in case city from citipy does not appear in owm\n",
    "for index, row in city_df.iterrows():\n",
    "    city = row['City']\n",
    "    try:\n",
    "        city_weather = owm.get_current(city, **settings)\n",
    "        city_df.loc[index, 'Latitude'] = city_weather['coord']['lat']\n",
    "        city_df.loc[index, 'Longitude'] = city_weather['coord']['lon']\n",
    "        city_df.loc[index, 'Temperature'] = city_weather['main']['temp']\n",
    "        city_df.loc[index, 'Humidity'] = city_weather['main']['humidity']\n",
    "        city_df.loc[index, 'Cloudiness'] = city_weather['clouds']['all']\n",
    "        city_df.loc[index, 'Wind Speed'] = city_weather['wind']['speed']\n",
    "    except HTTPError:\n",
    "        print(f\"{city} not found. Skipping...\")"
   ]
  },
  {
   "cell_type": "markdown",
   "metadata": {},
   "source": [
    "## Populated City Dataframe"
   ]
  },
  {
   "cell_type": "code",
   "execution_count": 288,
   "metadata": {},
   "outputs": [
    {
     "data": {
      "text/html": [
       "<div>\n",
       "<style scoped>\n",
       "    .dataframe tbody tr th:only-of-type {\n",
       "        vertical-align: middle;\n",
       "    }\n",
       "\n",
       "    .dataframe tbody tr th {\n",
       "        vertical-align: top;\n",
       "    }\n",
       "\n",
       "    .dataframe thead th {\n",
       "        text-align: right;\n",
       "    }\n",
       "</style>\n",
       "<table border=\"1\" class=\"dataframe\">\n",
       "  <thead>\n",
       "    <tr style=\"text-align: right;\">\n",
       "      <th></th>\n",
       "      <th>City</th>\n",
       "      <th>Country Code</th>\n",
       "      <th>Latitude</th>\n",
       "      <th>Longitude</th>\n",
       "      <th>Temperature</th>\n",
       "      <th>Humidity</th>\n",
       "      <th>Cloudiness</th>\n",
       "      <th>Wind Speed</th>\n",
       "    </tr>\n",
       "  </thead>\n",
       "  <tbody>\n",
       "    <tr>\n",
       "      <th>1</th>\n",
       "      <td>butaritari</td>\n",
       "      <td>ki</td>\n",
       "      <td>3.07</td>\n",
       "      <td>172.79</td>\n",
       "      <td>85.11</td>\n",
       "      <td>99</td>\n",
       "      <td>80</td>\n",
       "      <td>15.7</td>\n",
       "    </tr>\n",
       "    <tr>\n",
       "      <th>2</th>\n",
       "      <td>bredasdorp</td>\n",
       "      <td>za</td>\n",
       "      <td>-34.53</td>\n",
       "      <td>20.04</td>\n",
       "      <td>62.6</td>\n",
       "      <td>72</td>\n",
       "      <td>44</td>\n",
       "      <td>8.05</td>\n",
       "    </tr>\n",
       "    <tr>\n",
       "      <th>3</th>\n",
       "      <td>kahului</td>\n",
       "      <td>us</td>\n",
       "      <td>20.89</td>\n",
       "      <td>-156.47</td>\n",
       "      <td>70.79</td>\n",
       "      <td>84</td>\n",
       "      <td>75</td>\n",
       "      <td>5.82</td>\n",
       "    </tr>\n",
       "    <tr>\n",
       "      <th>4</th>\n",
       "      <td>arraial do cabo</td>\n",
       "      <td>br</td>\n",
       "      <td>-22.97</td>\n",
       "      <td>-42.02</td>\n",
       "      <td>76.06</td>\n",
       "      <td>91</td>\n",
       "      <td>8</td>\n",
       "      <td>18.5</td>\n",
       "    </tr>\n",
       "    <tr>\n",
       "      <th>5</th>\n",
       "      <td>bugaan</td>\n",
       "      <td>ph</td>\n",
       "      <td>14.04</td>\n",
       "      <td>120.94</td>\n",
       "      <td>86</td>\n",
       "      <td>55</td>\n",
       "      <td>75</td>\n",
       "      <td>13.87</td>\n",
       "    </tr>\n",
       "    <tr>\n",
       "      <th>6</th>\n",
       "      <td>saint-philippe</td>\n",
       "      <td>re</td>\n",
       "      <td>45.36</td>\n",
       "      <td>-73.48</td>\n",
       "      <td>28.89</td>\n",
       "      <td>79</td>\n",
       "      <td>90</td>\n",
       "      <td>12.75</td>\n",
       "    </tr>\n",
       "    <tr>\n",
       "      <th>7</th>\n",
       "      <td>vaini</td>\n",
       "      <td>to</td>\n",
       "      <td>15.34</td>\n",
       "      <td>74.49</td>\n",
       "      <td>70.72</td>\n",
       "      <td>43</td>\n",
       "      <td>0</td>\n",
       "      <td>2.24</td>\n",
       "    </tr>\n",
       "    <tr>\n",
       "      <th>8</th>\n",
       "      <td>mahebourg</td>\n",
       "      <td>mu</td>\n",
       "      <td>-20.41</td>\n",
       "      <td>57.7</td>\n",
       "      <td>82.4</td>\n",
       "      <td>78</td>\n",
       "      <td>75</td>\n",
       "      <td>16.11</td>\n",
       "    </tr>\n",
       "    <tr>\n",
       "      <th>9</th>\n",
       "      <td>ancud</td>\n",
       "      <td>cl</td>\n",
       "      <td>-41.87</td>\n",
       "      <td>-73.83</td>\n",
       "      <td>41</td>\n",
       "      <td>86</td>\n",
       "      <td>0</td>\n",
       "      <td>1.12</td>\n",
       "    </tr>\n",
       "    <tr>\n",
       "      <th>10</th>\n",
       "      <td>beloha</td>\n",
       "      <td>mg</td>\n",
       "      <td>-25.17</td>\n",
       "      <td>45.06</td>\n",
       "      <td>72.42</td>\n",
       "      <td>92</td>\n",
       "      <td>36</td>\n",
       "      <td>3.18</td>\n",
       "    </tr>\n",
       "  </tbody>\n",
       "</table>\n",
       "</div>"
      ],
      "text/plain": [
       "               City Country Code  Latitude Longitude Temperature Humidity  \\\n",
       "1        butaritari           ki      3.07    172.79       85.11       99   \n",
       "2        bredasdorp           za    -34.53     20.04        62.6       72   \n",
       "3           kahului           us     20.89   -156.47       70.79       84   \n",
       "4   arraial do cabo           br    -22.97    -42.02       76.06       91   \n",
       "5            bugaan           ph     14.04    120.94          86       55   \n",
       "6    saint-philippe           re     45.36    -73.48       28.89       79   \n",
       "7             vaini           to     15.34     74.49       70.72       43   \n",
       "8         mahebourg           mu    -20.41      57.7        82.4       78   \n",
       "9             ancud           cl    -41.87    -73.83          41       86   \n",
       "10           beloha           mg    -25.17     45.06       72.42       92   \n",
       "\n",
       "   Cloudiness Wind Speed  \n",
       "1          80       15.7  \n",
       "2          44       8.05  \n",
       "3          75       5.82  \n",
       "4           8       18.5  \n",
       "5          75      13.87  \n",
       "6          90      12.75  \n",
       "7           0       2.24  \n",
       "8          75      16.11  \n",
       "9           0       1.12  \n",
       "10         36       3.18  "
      ]
     },
     "execution_count": 288,
     "metadata": {},
     "output_type": "execute_result"
    }
   ],
   "source": [
    "city_df['Latitude'].replace('', np.nan, inplace=True)\n",
    "city_df.dropna(axis = 0, how = 'any', inplace = True)\n",
    "city_df.reset_index(drop = True, inplace = True)\n",
    "city_df.index = np.arange(1, len(city_df) + 1)\n",
    "city_df"
   ]
  },
  {
   "cell_type": "code",
   "execution_count": 289,
   "metadata": {},
   "outputs": [
    {
     "name": "stdout",
     "output_type": "stream",
     "text": [
      "City #1: butaritari\n",
      "url: api.openweathermap.org/data/2.5/weather?units=Imperial&APPID=4f71f9640cc5537c6b7d0589778e430c&q=butaritari\n",
      "City #2: bredasdorp\n",
      "url: api.openweathermap.org/data/2.5/weather?units=Imperial&APPID=4f71f9640cc5537c6b7d0589778e430c&q=bredasdorp\n",
      "City #3: kahului\n",
      "url: api.openweathermap.org/data/2.5/weather?units=Imperial&APPID=4f71f9640cc5537c6b7d0589778e430c&q=kahului\n",
      "City #4: arraial do cabo\n",
      "url: api.openweathermap.org/data/2.5/weather?units=Imperial&APPID=4f71f9640cc5537c6b7d0589778e430c&q=arraial do cabo\n",
      "City #5: bugaan\n",
      "url: api.openweathermap.org/data/2.5/weather?units=Imperial&APPID=4f71f9640cc5537c6b7d0589778e430c&q=bugaan\n",
      "City #6: saint-philippe\n",
      "url: api.openweathermap.org/data/2.5/weather?units=Imperial&APPID=4f71f9640cc5537c6b7d0589778e430c&q=saint-philippe\n",
      "City #7: vaini\n",
      "url: api.openweathermap.org/data/2.5/weather?units=Imperial&APPID=4f71f9640cc5537c6b7d0589778e430c&q=vaini\n",
      "City #8: mahebourg\n",
      "url: api.openweathermap.org/data/2.5/weather?units=Imperial&APPID=4f71f9640cc5537c6b7d0589778e430c&q=mahebourg\n",
      "City #9: ancud\n",
      "url: api.openweathermap.org/data/2.5/weather?units=Imperial&APPID=4f71f9640cc5537c6b7d0589778e430c&q=ancud\n",
      "City #10: beloha\n",
      "url: api.openweathermap.org/data/2.5/weather?units=Imperial&APPID=4f71f9640cc5537c6b7d0589778e430c&q=beloha\n"
     ]
    }
   ],
   "source": [
    "for index, row in city_df.iterrows():\n",
    "    city = row[\"City\"]\n",
    "    print(f'City #{index}: {city}')\n",
    "    print(f'url: {base_url}units=Imperial&APPID={api_key}&q={city}')"
   ]
  },
  {
   "cell_type": "markdown",
   "metadata": {},
   "source": [
    "## Latitude vs Temperature Scatter Plot"
   ]
  },
  {
   "cell_type": "code",
   "execution_count": 290,
   "metadata": {
    "scrolled": true
   },
   "outputs": [
    {
     "data": {
      "image/png": "[encoded data removed]",
      "text/plain": [
       "<Figure size 432x288 with 1 Axes>"
      ]
     },
     "metadata": {
      "needs_background": "light"
     },
     "output_type": "display_data"
    }
   ],
   "source": [
    "# create scatter plot from dataframe, add appropriate labels and limits, save figure\n",
    "plt.scatter(city_df[\"Latitude\"], city_df[\"Temperature\"], facecolors = \"blue\", edgecolors = \"black\")\n",
    "plt.title(\"City Latitude vs Temperature\")\n",
    "plt.xlabel(\"Latitude\")\n",
    "plt.ylabel(\"Temperature (Fahrenheit)\")\n",
    "plt.grid()\n",
    "plt.xlim(-90,90)\n",
    "plt.ylim(-30,110)\n",
    "plt.savefig(\"lat_temp.png\", bbox_inches = \"tight\")"
   ]
  },
  {
   "cell_type": "markdown",
   "metadata": {},
   "source": [
    "## Latitude vs Humidity Scatter Plot"
   ]
  },
  {
   "cell_type": "code",
   "execution_count": 291,
   "metadata": {},
   "outputs": [
    {
     "data": {
      "image/png": "[encoded data removed]",
      "text/plain": [
       "<Figure size 432x288 with 1 Axes>"
      ]
     },
     "metadata": {
      "needs_background": "light"
     },
     "output_type": "display_data"
    }
   ],
   "source": [
    "# create scatter plot from dataframe, add appropriate labels and limits, save figure\n",
    "plt.scatter(city_df[\"Latitude\"], city_df[\"Humidity\"], facecolors = \"blue\", edgecolors = \"black\")\n",
    "plt.title(\"City Latitude vs Humidity\")\n",
    "plt.xlabel(\"Latitude\")\n",
    "plt.ylabel(\"Humidity (%)\")\n",
    "plt.grid()\n",
    "plt.xlim(-90,90)\n",
    "plt.ylim(-5,105)\n",
    "plt.savefig(\"lat_hmdty.png\", bbox_inches = \"tight\")"
   ]
  },
  {
   "cell_type": "markdown",
   "metadata": {},
   "source": [
    "## Latitude vs Cloudiness Scatter Plot"
   ]
  },
  {
   "cell_type": "code",
   "execution_count": 292,
   "metadata": {},
   "outputs": [
    {
     "data": {
      "image/png": "[encoded data removed]",
      "text/plain": [
       "<Figure size 432x288 with 1 Axes>"
      ]
     },
     "metadata": {
      "needs_background": "light"
     },
     "output_type": "display_data"
    }
   ],
   "source": [
    "# create scatter plot from dataframe, add appropriate labels and limits, save figure\n",
    "plt.scatter(city_df[\"Latitude\"], city_df[\"Cloudiness\"], facecolors = \"blue\", edgecolors = \"black\")\n",
    "plt.title(\"City Latitude vs Cloudiness\")\n",
    "plt.xlabel(\"Latitude\")\n",
    "plt.ylabel(\"Cloudiness (%)\")\n",
    "plt.grid()\n",
    "plt.xlim(-90,90)\n",
    "plt.ylim(-5,105)\n",
    "plt.savefig(\"lat_cloud.png\", bbox_inches = \"tight\")"
   ]
  },
  {
   "cell_type": "markdown",
   "metadata": {},
   "source": [
    "## Latitude vs Wind Speed Scatter Plot"
   ]
  },
  {
   "cell_type": "code",
   "execution_count": 293,
   "metadata": {},
   "outputs": [
    {
     "data": {
      "image/png": "[encoded data removed]",
      "text/plain": [
       "<Figure size 432x288 with 1 Axes>"
      ]
     },
     "metadata": {
      "needs_background": "light"
     },
     "output_type": "display_data"
    }
   ],
   "source": [
    "# create scatter plot from dataframe, add appropriate labels and limits, save figure\n",
    "plt.scatter(city_df[\"Latitude\"], city_df[\"Wind Speed\"], facecolors = \"blue\", edgecolors = \"black\")\n",
    "plt.title(\"City Latitude vs Wind Speed\")\n",
    "plt.xlabel(\"Latitude\")\n",
    "plt.ylabel(\"Wind Speed (mph)\")\n",
    "plt.grid()\n",
    "plt.xlim(-90,90)\n",
    "plt.ylim(-5,50)\n",
    "plt.savefig(\"lat_wind.png\", bbox_inches = \"tight\")"
   ]
  },
  {
   "cell_type": "code",
   "execution_count": null,
   "metadata": {},
   "outputs": [],
   "source": []
  },
  {
   "cell_type": "code",
   "execution_count": null,
   "metadata": {},
   "outputs": [],
   "source": []
  },
  {
   "cell_type": "code",
   "execution_count": null,
   "metadata": {},
   "outputs": [],
   "source": []
  }
 ],
 "metadata": {
  "kernelspec": {
   "display_name": "Python 3",
   "language": "python",
   "name": "python3"
  },
  "language_info": {
   "codemirror_mode": {
    "name": "ipython",
    "version": 3
   },
   "file_extension": ".py",
   "mimetype": "text/x-python",
   "name": "python",
   "nbconvert_exporter": "python",
   "pygments_lexer": "ipython3",
   "version": "3.6.6"
  }
 },
 "nbformat": 4,
 "nbformat_minor": 2
}
